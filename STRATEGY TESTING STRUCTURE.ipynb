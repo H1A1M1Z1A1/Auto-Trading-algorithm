{
 "cells": [
  {
   "cell_type": "code",
   "execution_count": null,
   "id": "65f67057",
   "metadata": {},
   "outputs": [],
   "source": [
    "import pandas as pd\n",
    "import numpy as np\n"
   ]
  },
  {
   "cell_type": "code",
   "execution_count": null,
   "id": "0bbfdc29",
   "metadata": {},
   "outputs": [],
   "source": [
    "i=0\n",
    "money=money_invested\n",
    "\n",
    "dn=dataframe\n",
    "\n",
    "\n",
    "\n",
    "\n",
    "\n",
    "\n",
    "while i<len(dn.index):\n",
    "    ##LONG STRATEGY\n",
    "    if (BUY CONDITION)\n",
    "   \n",
    "       \n",
    "        a=i+1\n",
    "       \n",
    "      \n",
    "        while a<len(dn.index):                                                                            \n",
    "                if MARKET_PRICE>BUY_PRICE+x*BUY_PRICE:('SELLING WITH X% PROFIT')\n",
    "                    profit=((buy_price-market_price)/buy_price)\n",
    "                    money=money+money*profit\n",
    "\n",
    "                    ds=ds.append({\"buy_time\":dn.iloc[i,0],\"buy_price\":buy_price,'sell_time':dn.iloc[a,0],'sell_price':market_price,'profit%':profit,'money':money,}, ignore_index=True)\n",
    "                    i=a                  \n",
    "                    break\n",
    "                    ##STOP LOSS \n",
    "                elif MARKET_PRICE<=STOP_LOSS :\n",
    "                    loss=((MARKET_PRICE-BUY_PRICE)/BUY_PRICE) \n",
    "                    money=money+money*loss\n",
    "                    dq=dq.append({\"buy_time\":dn.iloc[i,0],\"buy_price\":buy_price,'sell_time':dn.iloc[a,0],'sell_price':market_price,'loss%':loss, 'money':money}, ignore_index=True)\n",
    "                    \n",
    "                    i=a\n",
    "                    break\n",
    "\n",
    "                else:\n",
    "                    a=a+1\n",
    "         \n",
    "       \n",
    "    \n",
    "    ###SHORT STRATEGY####\n",
    "    elif (SELL CONDITION)\n",
    "        \n",
    "        a=i+1\n",
    "                \n",
    "        \n",
    "       \n",
    "      \n",
    "        while a<len(dn.index):\n",
    "            \n",
    "            if MARKET_PRICE<BUY_PRICE-x*BUY_PRICE:('''SELLING WITH X% PROFIT''')\n",
    "          \n",
    "                ROFIT=((MARKET_PRICE-BUY_PRICE)/BUY_PRICE)\n",
    "                money=money-money*profit\n",
    "\n",
    "                ds=ds.append({\"buy_time\":dn.iloc[i,0],\"buy_price\":BUY_PRICE,'sell_time':dn.iloc[a,0],'sell_price':MARKET_PRICE,'profit%':profit,'money':money,}, ignore_index=True)\n",
    "                i=a                   \n",
    "                break\n",
    "\n",
    "            elif MARKET_PRICE>=STOP_LOSS:\n",
    "                loss=((MARKET_PRICE-STOP_LOSS)/MARKET_PRICE) \n",
    "                mny=mny-mny*loss\n",
    "                dq=dq.append({\"buy_time\":dn.iloc[i,0],\"buy_price\":BUY_PRICE,'sell_time':dn.iloc[a,0],'sell_price':MARKET_PRICE,'loss%':loss, 'money':money,}, ignore_index=True)\n",
    "\n",
    "                i=a\n",
    "                break\n",
    "\n",
    "            else:\n",
    "                a=a+1\n",
    "     \n",
    "   \n",
    "    else:\n",
    "        i=i+1\n",
    "                            \n",
    "\n",
    "            \n",
    "print(ds)\n",
    "print(dq)\n",
    "print(f'net profit%={(((money-money_invested)/money_invested))*100}')\n"
   ]
  },
  {
   "cell_type": "code",
   "execution_count": null,
   "id": "71b528c7",
   "metadata": {},
   "outputs": [],
   "source": []
  },
  {
   "cell_type": "markdown",
   "id": "c775eca4",
   "metadata": {},
   "source": [
    "##### "
   ]
  },
  {
   "cell_type": "code",
   "execution_count": null,
   "id": "0661228f",
   "metadata": {},
   "outputs": [],
   "source": []
  }
 ],
 "metadata": {
  "kernelspec": {
   "display_name": "Python 3 (ipykernel)",
   "language": "python",
   "name": "python3"
  },
  "language_info": {
   "codemirror_mode": {
    "name": "ipython",
    "version": 3
   },
   "file_extension": ".py",
   "mimetype": "text/x-python",
   "name": "python",
   "nbconvert_exporter": "python",
   "pygments_lexer": "ipython3",
   "version": "3.8.8"
  }
 },
 "nbformat": 4,
 "nbformat_minor": 5
}
